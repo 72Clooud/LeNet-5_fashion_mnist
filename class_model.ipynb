{
 "cells": [
  {
   "cell_type": "code",
   "execution_count": 1,
   "metadata": {},
   "outputs": [],
   "source": [
    "import tensorflow as tf\n",
    "import numpy as np\n",
    "import matplotlib.pyplot as plt\n",
    "from sklearn.metrics import accuracy_score\n",
    "from tensorflow.keras.datasets import fashion_mnist\n",
    "from tensorflow.keras.preprocessing.image import ImageDataGenerator\n",
    "from tensorflow.keras.losses import SparseCategoricalCrossentropy"
   ]
  },
  {
   "cell_type": "code",
   "execution_count": 10,
   "metadata": {},
   "outputs": [],
   "source": [
    "class LeNet_5(tf.keras.Model):\n",
    "    def __init__(self):\n",
    "        super(LeNet_5, self).__init__()\n",
    "        self.conv2D_1 = tf.keras.layers.Conv2D(32, kernel_size=(5, 5), activation='relu', input_shape=(28, 28, 1))\n",
    "        self.maxpooling2D_1 = tf.keras.layers.MaxPooling2D(pool_size=(2, 2))\n",
    "        self.conv2D_2 = tf.keras.layers.Conv2D(64, kernel_size=(5, 5), activation='relu')\n",
    "        self.maxpooling2D_2 = tf.keras.layers.MaxPooling2D(pool_size=(2, 2))\n",
    "        self.flatten = tf.keras.layers.Flatten()\n",
    "        self.dense_1 = tf.keras.layers.Dense(120, activation='relu')\n",
    "        self.dense_2 = tf.keras.layers.Dense(84, activation='relu')\n",
    "        self.dense_3 = tf.keras.layers.Dense(10, activation='softmax')\n",
    "        \n",
    "    def call(self, inputs):\n",
    "        x = self.conv2D_1(inputs)\n",
    "        x = self.maxpooling2D_1(x)\n",
    "        x = self.conv2D_2(x)\n",
    "        x = self.maxpooling2D_2(x)\n",
    "        x = self.flatten(x)\n",
    "        x = self.dense_1(x)\n",
    "        x = self.dense_2(x)\n",
    "        \n",
    "        return self.dense_3(x)\n",
    "    \n",
    "    def prepere_data(self):\n",
    "        (self.X_train, self.y_train), (self.X_test, self.y_test) = fashion_mnist.load_data()\n",
    "\n",
    "        self.X_train = self.X_train / 255\n",
    "        self.X_test = self.X_test / 255\n",
    "\n",
    "        self.X_train = self.X_train.reshape(-1, 28, 28, 1)\n",
    "        self.X_test = self.X_test.reshape(-1, 28, 28, 1)\n",
    "        \n",
    "        return (self.X_train, self.y_train), (self.X_test, self.y_test)\n",
    "    "
   ]
  },
  {
   "cell_type": "code",
   "execution_count": 11,
   "metadata": {},
   "outputs": [],
   "source": [
    "class DataAugmentation():\n",
    "    def __init__(self):\n",
    "        self.data_gen = ImageDataGenerator(rotation_range=30, width_shift_range=0.2, height_shift_range=0.2,\n",
    "                                            zoom_range=0.2, horizontal_flip=True, fill_mode='nearest')\n",
    "        \n",
    "    def augment_data(self, images, labels):\n",
    "        augment_data = self.data_gen.flow(images, labels, batch_size=32)\n",
    "        return augment_data"
   ]
  },
  {
   "cell_type": "code",
   "execution_count": 12,
   "metadata": {},
   "outputs": [],
   "source": [
    "model = LeNet_5()\n",
    "model.compile(optimizer='Adam', loss='SparseCategoricalCrossentropy', metrics=['Accuracy'])\n",
    "(X_train, y_train), (X_test, y_test) = model.prepere_data()"
   ]
  },
  {
   "cell_type": "code",
   "execution_count": 13,
   "metadata": {},
   "outputs": [],
   "source": [
    "data_gener = DataAugmentation()\n",
    "augmented_data = data_gener.augment_data(X_train, y_train)"
   ]
  },
  {
   "cell_type": "code",
   "execution_count": 14,
   "metadata": {},
   "outputs": [
    {
     "name": "stdout",
     "output_type": "stream",
     "text": [
      "Epoch 1/15\n"
     ]
    },
    {
     "name": "stderr",
     "output_type": "stream",
     "text": [
      "d:\\ML\\LeNet-5_fashion_mnist\\.venv\\lib\\site-packages\\keras\\src\\trainers\\data_adapters\\py_dataset_adapter.py:121: UserWarning: Your `PyDataset` class should call `super().__init__(**kwargs)` in its constructor. `**kwargs` can include `workers`, `use_multiprocessing`, `max_queue_size`. Do not pass these arguments to `fit()`, as they will be ignored.\n",
      "  self._warn_if_super_not_called()\n"
     ]
    },
    {
     "name": "stdout",
     "output_type": "stream",
     "text": [
      "\u001b[1m1875/1875\u001b[0m \u001b[32m━━━━━━━━━━━━━━━━━━━━\u001b[0m\u001b[37m\u001b[0m \u001b[1m28s\u001b[0m 13ms/step - Accuracy: 0.5566 - loss: 1.1930 - val_Accuracy: 0.7395 - val_loss: 0.6656\n",
      "Epoch 2/15\n",
      "\u001b[1m1875/1875\u001b[0m \u001b[32m━━━━━━━━━━━━━━━━━━━━\u001b[0m\u001b[37m\u001b[0m \u001b[1m24s\u001b[0m 13ms/step - Accuracy: 0.7182 - loss: 0.7441 - val_Accuracy: 0.7700 - val_loss: 0.5884\n",
      "Epoch 3/15\n",
      "\u001b[1m1875/1875\u001b[0m \u001b[32m━━━━━━━━━━━━━━━━━━━━\u001b[0m\u001b[37m\u001b[0m \u001b[1m24s\u001b[0m 13ms/step - Accuracy: 0.7464 - loss: 0.6656 - val_Accuracy: 0.8021 - val_loss: 0.5362\n",
      "Epoch 4/15\n",
      "\u001b[1m1875/1875\u001b[0m \u001b[32m━━━━━━━━━━━━━━━━━━━━\u001b[0m\u001b[37m\u001b[0m \u001b[1m24s\u001b[0m 13ms/step - Accuracy: 0.7675 - loss: 0.6137 - val_Accuracy: 0.8130 - val_loss: 0.4963\n",
      "Epoch 5/15\n",
      "\u001b[1m1875/1875\u001b[0m \u001b[32m━━━━━━━━━━━━━━━━━━━━\u001b[0m\u001b[37m\u001b[0m \u001b[1m23s\u001b[0m 12ms/step - Accuracy: 0.7809 - loss: 0.5822 - val_Accuracy: 0.8174 - val_loss: 0.4878\n",
      "Epoch 6/15\n",
      "\u001b[1m1875/1875\u001b[0m \u001b[32m━━━━━━━━━━━━━━━━━━━━\u001b[0m\u001b[37m\u001b[0m \u001b[1m24s\u001b[0m 13ms/step - Accuracy: 0.7888 - loss: 0.5608 - val_Accuracy: 0.8180 - val_loss: 0.4878\n",
      "Epoch 7/15\n",
      "\u001b[1m1875/1875\u001b[0m \u001b[32m━━━━━━━━━━━━━━━━━━━━\u001b[0m\u001b[37m\u001b[0m \u001b[1m24s\u001b[0m 12ms/step - Accuracy: 0.7976 - loss: 0.5312 - val_Accuracy: 0.8212 - val_loss: 0.4633\n",
      "Epoch 8/15\n",
      "\u001b[1m1875/1875\u001b[0m \u001b[32m━━━━━━━━━━━━━━━━━━━━\u001b[0m\u001b[37m\u001b[0m \u001b[1m24s\u001b[0m 13ms/step - Accuracy: 0.8063 - loss: 0.5181 - val_Accuracy: 0.8306 - val_loss: 0.4578\n",
      "Epoch 9/15\n",
      "\u001b[1m1875/1875\u001b[0m \u001b[32m━━━━━━━━━━━━━━━━━━━━\u001b[0m\u001b[37m\u001b[0m \u001b[1m25s\u001b[0m 13ms/step - Accuracy: 0.8086 - loss: 0.5035 - val_Accuracy: 0.7981 - val_loss: 0.5133\n",
      "Epoch 10/15\n",
      "\u001b[1m1875/1875\u001b[0m \u001b[32m━━━━━━━━━━━━━━━━━━━━\u001b[0m\u001b[37m\u001b[0m \u001b[1m24s\u001b[0m 13ms/step - Accuracy: 0.8120 - loss: 0.4951 - val_Accuracy: 0.8279 - val_loss: 0.4626\n",
      "Epoch 11/15\n",
      "\u001b[1m1875/1875\u001b[0m \u001b[32m━━━━━━━━━━━━━━━━━━━━\u001b[0m\u001b[37m\u001b[0m \u001b[1m24s\u001b[0m 13ms/step - Accuracy: 0.8189 - loss: 0.4858 - val_Accuracy: 0.8468 - val_loss: 0.4148\n",
      "Epoch 12/15\n",
      "\u001b[1m1875/1875\u001b[0m \u001b[32m━━━━━━━━━━━━━━━━━━━━\u001b[0m\u001b[37m\u001b[0m \u001b[1m23s\u001b[0m 12ms/step - Accuracy: 0.8198 - loss: 0.4815 - val_Accuracy: 0.8388 - val_loss: 0.4293\n",
      "Epoch 13/15\n",
      "\u001b[1m1875/1875\u001b[0m \u001b[32m━━━━━━━━━━━━━━━━━━━━\u001b[0m\u001b[37m\u001b[0m \u001b[1m24s\u001b[0m 13ms/step - Accuracy: 0.8208 - loss: 0.4766 - val_Accuracy: 0.8364 - val_loss: 0.4387\n",
      "Epoch 14/15\n",
      "\u001b[1m1875/1875\u001b[0m \u001b[32m━━━━━━━━━━━━━━━━━━━━\u001b[0m\u001b[37m\u001b[0m \u001b[1m24s\u001b[0m 13ms/step - Accuracy: 0.8215 - loss: 0.4735 - val_Accuracy: 0.8439 - val_loss: 0.4215\n",
      "Epoch 15/15\n",
      "\u001b[1m1875/1875\u001b[0m \u001b[32m━━━━━━━━━━━━━━━━━━━━\u001b[0m\u001b[37m\u001b[0m \u001b[1m24s\u001b[0m 13ms/step - Accuracy: 0.8300 - loss: 0.4592 - val_Accuracy: 0.8439 - val_loss: 0.4222\n"
     ]
    },
    {
     "data": {
      "text/plain": [
       "<keras.src.callbacks.history.History at 0x227c2eb0130>"
      ]
     },
     "execution_count": 14,
     "metadata": {},
     "output_type": "execute_result"
    }
   ],
   "source": [
    "model.fit(augmented_data, epochs=15, validation_data=(X_test, y_test))"
   ]
  },
  {
   "cell_type": "code",
   "execution_count": 16,
   "metadata": {},
   "outputs": [
    {
     "name": "stdout",
     "output_type": "stream",
     "text": [
      "\u001b[1m313/313\u001b[0m \u001b[32m━━━━━━━━━━━━━━━━━━━━\u001b[0m\u001b[37m\u001b[0m \u001b[1m1s\u001b[0m 4ms/step\n",
      "accuracy: 0.8439\n"
     ]
    }
   ],
   "source": [
    "pred = model.predict(X_test)\n",
    "pred_classes = np.argmax(pred, axis=1)\n",
    "acc = accuracy_score(y_test, pred_classes)\n",
    "print(f'accuracy: {acc}')"
   ]
  }
 ],
 "metadata": {
  "kernelspec": {
   "display_name": ".venv",
   "language": "python",
   "name": "python3"
  },
  "language_info": {
   "codemirror_mode": {
    "name": "ipython",
    "version": 3
   },
   "file_extension": ".py",
   "mimetype": "text/x-python",
   "name": "python",
   "nbconvert_exporter": "python",
   "pygments_lexer": "ipython3",
   "version": "3.10.11"
  }
 },
 "nbformat": 4,
 "nbformat_minor": 2
}
