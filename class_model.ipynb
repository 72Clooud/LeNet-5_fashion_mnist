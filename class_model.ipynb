{
 "cells": [
  {
   "cell_type": "code",
   "execution_count": 2,
   "metadata": {},
   "outputs": [],
   "source": [
    "import tensorflow as tf\n",
    "import numpy as np\n",
    "import matplotlib.pyplot as plt\n",
    "from sklearn.metrics import accuracy_score\n",
    "from tensorflow.keras.datasets import fashion_mnist\n",
    "from tensorflow.keras.preprocessing.image import ImageDataGenerator\n",
    "from tensorflow.keras.losses import SparseCategoricalCrossentropy"
   ]
  },
  {
   "cell_type": "code",
   "execution_count": 20,
   "metadata": {},
   "outputs": [],
   "source": [
    "class Cnn_model(tf.keras.Model):\n",
    "    def __init__(self):\n",
    "        super(Cnn_model, self).__init__()\n",
    "        self.conv2D_1 = tf.keras.layers.Conv2D(32, kernel_size=(5, 5), activation='relu', input_shape=(28, 28, 1)),\n",
    "        self.maxpooling2D_1 = tf.keras.layers.MaxPooling2D(pool_size=(2, 2)),\n",
    "        self.conv2D_2 = tf.keras.layers.Conv2D(64, kernel_size=(5, 5), activation='relu'),\n",
    "        self.maxpooling2D_2 = tf.keras.layers.MaxPooling2D(pool_size=(2, 2)),\n",
    "        self.flatten = tf.keras.layers.Flatten(),\n",
    "        self.dense_1 = tf.keras.layers.Dense(120, activation='relu'),\n",
    "        self.dense_2 = tf.keras.layers.Dense(84, activation='relu'),\n",
    "        self.dense_3 = tf.keras.layers.Dense(10, activation='softmax')\n",
    "        \n",
    "    def call(self, inputs):\n",
    "        x = self.conv2D_1(inputs)\n",
    "        x = self.maxpooling2D_1(x)\n",
    "        x = self.conv2D_2(x)\n",
    "        x = self.maxpooling2D_2(x)\n",
    "        x = self.flatten(x)\n",
    "        x = self.dense_1(x)\n",
    "        x = self.dense_2(x)\n",
    "        \n",
    "        return self.dense_3(x)\n",
    "    \n",
    "    def prepere_data(self):\n",
    "        (self.X_train, self.y_train), (self.X_test, self.y_test) = fashion_mnist.load_data()\n",
    "\n",
    "        self.X_train = self.X_train / 255\n",
    "        self.X_test = self.X_test / 255\n",
    "\n",
    "        self.X_train = self.X_train.reshape(-1, 28, 28, 1)\n",
    "        self.X_test = self.X_test.reshape(-1, 28, 28, 1)\n",
    "        \n",
    "        return (self.X_train, self.y_train), (self.X_test, self.y_test)\n",
    "    "
   ]
  },
  {
   "cell_type": "code",
   "execution_count": 25,
   "metadata": {},
   "outputs": [],
   "source": [
    "class DataAugmentation():\n",
    "    def __init__(self):\n",
    "        self.data_gen = ImageDataGenerator(rotation_range=30, width_shift_range=0.2, height_shift_range=0.2,\n",
    "                                            zoom_range=0.2, horizontal_flip=True, fill_mode='nearest')\n",
    "        \n",
    "    def augment_data(self, images, labels):\n",
    "        augment_data = self.data_gen.flow(images, labels, batch_size=32)\n",
    "        return augment_data"
   ]
  },
  {
   "cell_type": "code",
   "execution_count": 27,
   "metadata": {},
   "outputs": [
    {
     "name": "stderr",
     "output_type": "stream",
     "text": [
      "d:\\ML\\LeNet-5_fashion_mnist\\.venv\\lib\\site-packages\\keras\\src\\layers\\convolutional\\base_conv.py:107: UserWarning: Do not pass an `input_shape`/`input_dim` argument to a layer. When using Sequential models, prefer using an `Input(shape)` object as the first layer in the model instead.\n",
      "  super().__init__(activity_regularizer=activity_regularizer, **kwargs)\n"
     ]
    }
   ],
   "source": [
    "model = Cnn_model()\n",
    "model.compile(optimizer='Adam', loss='SparseCategoricalCrossentropy', metrics=['Accuracy'])\n",
    "(X_train, y_train), (X_test, y_test) = model.prepere_data()"
   ]
  },
  {
   "cell_type": "code",
   "execution_count": 30,
   "metadata": {},
   "outputs": [],
   "source": [
    "data_gener = DataAugmentation()\n",
    "augmented_data = data_gener.augment_data(X_train, y_train)"
   ]
  }
 ],
 "metadata": {
  "kernelspec": {
   "display_name": ".venv",
   "language": "python",
   "name": "python3"
  },
  "language_info": {
   "codemirror_mode": {
    "name": "ipython",
    "version": 3
   },
   "file_extension": ".py",
   "mimetype": "text/x-python",
   "name": "python",
   "nbconvert_exporter": "python",
   "pygments_lexer": "ipython3",
   "version": "3.10.11"
  }
 },
 "nbformat": 4,
 "nbformat_minor": 2
}
